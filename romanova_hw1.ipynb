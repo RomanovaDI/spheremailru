{
 "cells": [
  {
   "cell_type": "markdown",
   "metadata": {},
   "source": [
    "**Общая информация**\n",
    "\n",
    "**Срок сдачи:** 20 марта 2019, 06:00 <br\\>\n",
    "**Штраф за опоздание:** -1 балл после 06:00 20 марта, -2 балла после 06:00 27 марта, -3 балла после 06:00 3 апреля\n",
    "-4 балла после 06:00 10 апреля\n",
    "\n",
    "При отправлении ДЗ указывайте фамилию в названии файла\n",
    "Присылать ДЗ необходимо в виде ссылки на свой github репозиторий в slack @alkhamush\n",
    "\n",
    "Необходимо в slack скинуть ссылку в личный чат @alkhamush\n",
    "Пример ссылки:\n",
    "https://github.com/stroykova/spheremailru/stroykova_hw1.ipynb \n",
    "\n",
    "\n",
    "Используйте данный Ipython Notebook при оформлении домашнего задания."
   ]
  },
  {
   "cell_type": "markdown",
   "metadata": {},
   "source": [
    "##### Задание 1 (2 баллов)\n",
    "Реализовать KNN в классе MyKNeighborsClassifier (обязательное условие: точность не ниже sklearn реализации)\n",
    "Разберитесь самостоятельно, какая мера расстояния используется в KNeighborsClassifier дефолтно и реализуйте свой алгоритм именно с этой мерой. Самостоятельно разберитесь, как считается score из KNeighborsClassifier и реализуйте аналог в своём классе. Score не должен уступать значению KNN из sklearn\n",
    "\n",
    "###### Задание 2 (2 балла)\n",
    "Добиться скорости работы на fit,  predict и predict_proba сравнимой со sklearn для iris и mnist\n",
    "Для этого используем numpy\n",
    "\n",
    "###### Задание 3 (2 балла)\n",
    "Для iris найдите такой параметр n_neighbors, при котором выдаётся наилучший score. Нарисуйте график зависимости score от n_neighbors\n",
    "\n",
    "###### Задание 4 (3 балла)\n",
    "Добавить algorithm='kd_tree' в реализацию KNN (использовать KDTree из sklearn.neighbors). Добиться скорости работы на fit,  predict и predict_proba сравнимой со sklearn для iris и mnist\n",
    "Для этого используем numpy. Score не должен уступать значению KNN из sklearn\n",
    "\n",
    "###### Задание 5 (1 балла)\n",
    "Описать для чего нужны следующие библиотеки/классы/функции (список будет ниже)\n",
    "\n",
    "**Штрафные баллы:**\n",
    "\n",
    "1. Невыполнение PEP8 -0.5 баллов\n",
    "2. Отсутствие фамилии в имени скрипта (скрипт должен называться по аналогии со stroykova_hw1.ipynb) -0.5 баллов\n",
    "3. Все строчки должны быть выполнены. Нужно, чтобы output команды можно было увидеть уже в git'е. В противном случае -0.5 баллов\n",
    "4. При оформлении ДЗ нужно пользоваться данным файлом в качестве шаблона. Не нужно удалять и видоизменять структуру кода и текст. В противном случае -0.5 баллов\n"
   ]
  },
  {
   "cell_type": "code",
   "execution_count": 4,
   "metadata": {},
   "outputs": [],
   "source": [
    "import numpy as np\n",
    "import pandas as pd#my!\n",
    "import matplotlib.pyplot as plt\n",
    "\n",
    "import seaborn as sns\n",
    "from sklearn import datasets\n",
    "from sklearn.base import ClassifierMixin\n",
    "from sklearn.datasets import fetch_openml\n",
    "from sklearn.neighbors.base import NeighborsBase, KNeighborsMixin, SupervisedIntegerMixin \n",
    "from sklearn.model_selection import train_test_split\n",
    "from sklearn.neighbors import KNeighborsClassifier\n",
    "%load_ext pycodestyle_magic"
   ]
  },
  {
   "cell_type": "code",
   "execution_count": null,
   "metadata": {},
   "outputs": [],
   "source": [
    "def predict(self, X):\n",
    "        y = np.zeros(X.shape[0], dtype=int)\n",
    "        for i in range(X.shape[0]):\n",
    "            dif = np.copy(self.X)\n",
    "            dist = np.sum(np.square(dif - X[i]), axis=1)\n",
    "            ind = np.argsort(dist)\n",
    "            for j in range(self.n_neighbors):\n",
    "                y[i] += self.y[ind[j]]\n",
    "            y[i] = int(round(y[i] / self.n_neighbors))\n",
    "        return y"
   ]
  },
  {
   "cell_type": "code",
   "execution_count": 132,
   "metadata": {},
   "outputs": [],
   "source": [
    "#%%pycodestyle\n",
    "\n",
    "\n",
    "class MyKNeighborsClassifier(NeighborsBase, KNeighborsMixin,\n",
    "                             SupervisedIntegerMixin, ClassifierMixin):\n",
    "\n",
    "    def __init__(self, n_neighbors=2, algorithm='brute'):\n",
    "        self.n_neighbors = n_neighbors\n",
    "\n",
    "    def fit(self, X, y):\n",
    "        self.X = np.copy(X)\n",
    "        self.y = np.copy(y)\n",
    "        self.classes = np.unique(y)\n",
    "        self.classes = np.sort(self.classes)\n",
    "        self.y = np.searchsorted(self.classes, self.y)\n",
    "\n",
    "    def predict(self, X):\n",
    "        y = np.zeros(X.shape[0], dtype=int)\n",
    "        for i in range(X.shape[0]):\n",
    "            y[i] = int(round(np.sum(self.y[np.argsort(np.sum(np.square(self.X - X[i]), axis=1))[0:self.n_neighbors]]) / self.n_neighbors))\n",
    "        return y\n",
    "\n",
    "    def predict_proba(self, X):\n",
    "        y = np.zeros((X.shape[0], self.classes.size))\n",
    "        for i in range(X.shape[0]):\n",
    "            dif = np.copy(self.X)\n",
    "            dist = np.sum(np.square(dif - X[i]), axis=1)\n",
    "            ind = np.argsort(dist)\n",
    "            for j in range(self.n_neighbors):\n",
    "                y[i][self.y[ind[j]]] += 1. / self.n_neighbors\n",
    "        return y\n",
    "\n",
    "    def score(self, X, y):\n",
    "        y1 = self.predict(X)\n",
    "        y1 = np.equal(y1, y)\n",
    "        z = np.sum(y1) / y.size\n",
    "        return z"
   ]
  },
  {
   "cell_type": "markdown",
   "metadata": {},
   "source": [
    "**IRIS**"
   ]
  },
  {
   "cell_type": "code",
   "execution_count": 133,
   "metadata": {},
   "outputs": [],
   "source": [
    "iris = datasets.load_iris()"
   ]
  },
  {
   "cell_type": "code",
   "execution_count": 134,
   "metadata": {},
   "outputs": [],
   "source": [
    "X_train, X_test, y_train, y_test = train_test_split(iris.data, iris.target, test_size=0.1, stratify=iris.target)"
   ]
  },
  {
   "cell_type": "code",
   "execution_count": 135,
   "metadata": {},
   "outputs": [],
   "source": [
    "clf = KNeighborsClassifier(n_neighbors=2, algorithm='brute')\n",
    "my_clf = MyKNeighborsClassifier(n_neighbors=2, algorithm='brute')"
   ]
  },
  {
   "cell_type": "code",
   "execution_count": 136,
   "metadata": {},
   "outputs": [
    {
     "name": "stdout",
     "output_type": "stream",
     "text": [
      "CPU times: user 516 µs, sys: 201 µs, total: 717 µs\n",
      "Wall time: 572 µs\n"
     ]
    },
    {
     "data": {
      "text/plain": [
       "KNeighborsClassifier(algorithm='brute', leaf_size=30, metric='minkowski',\n",
       "           metric_params=None, n_jobs=None, n_neighbors=2, p=2,\n",
       "           weights='uniform')"
      ]
     },
     "execution_count": 136,
     "metadata": {},
     "output_type": "execute_result"
    }
   ],
   "source": [
    "%time clf.fit(X_train, y_train)"
   ]
  },
  {
   "cell_type": "code",
   "execution_count": 137,
   "metadata": {},
   "outputs": [
    {
     "name": "stdout",
     "output_type": "stream",
     "text": [
      "CPU times: user 250 µs, sys: 0 ns, total: 250 µs\n",
      "Wall time: 155 µs\n"
     ]
    }
   ],
   "source": [
    "%time my_clf.fit(X_train, y_train)"
   ]
  },
  {
   "cell_type": "code",
   "execution_count": 138,
   "metadata": {},
   "outputs": [
    {
     "name": "stdout",
     "output_type": "stream",
     "text": [
      "CPU times: user 3.19 ms, sys: 0 ns, total: 3.19 ms\n",
      "Wall time: 2.01 ms\n"
     ]
    },
    {
     "data": {
      "text/plain": [
       "array([0, 0, 1, 1, 0, 2, 1, 2, 1, 2, 0, 1, 0, 2, 1])"
      ]
     },
     "execution_count": 138,
     "metadata": {},
     "output_type": "execute_result"
    }
   ],
   "source": [
    "%time clf.predict(X_test)"
   ]
  },
  {
   "cell_type": "code",
   "execution_count": 139,
   "metadata": {},
   "outputs": [
    {
     "name": "stdout",
     "output_type": "stream",
     "text": [
      "CPU times: user 1.53 ms, sys: 95 µs, total: 1.63 ms\n",
      "Wall time: 1.16 ms\n"
     ]
    },
    {
     "data": {
      "text/plain": [
       "array([0, 0, 1, 1, 0, 2, 1, 2, 1, 2, 0, 2, 0, 2, 1])"
      ]
     },
     "execution_count": 139,
     "metadata": {},
     "output_type": "execute_result"
    }
   ],
   "source": [
    "%time my_clf.predict(X_test)"
   ]
  },
  {
   "cell_type": "code",
   "execution_count": 140,
   "metadata": {},
   "outputs": [
    {
     "name": "stdout",
     "output_type": "stream",
     "text": [
      "CPU times: user 1.57 ms, sys: 0 ns, total: 1.57 ms\n",
      "Wall time: 1.1 ms\n"
     ]
    },
    {
     "data": {
      "text/plain": [
       "array([[1. , 0. , 0. ],\n",
       "       [1. , 0. , 0. ],\n",
       "       [0. , 1. , 0. ],\n",
       "       [0. , 1. , 0. ],\n",
       "       [1. , 0. , 0. ],\n",
       "       [0. , 0. , 1. ],\n",
       "       [0. , 1. , 0. ],\n",
       "       [0. , 0. , 1. ],\n",
       "       [0. , 1. , 0. ],\n",
       "       [0. , 0. , 1. ],\n",
       "       [1. , 0. , 0. ],\n",
       "       [0. , 0.5, 0.5],\n",
       "       [1. , 0. , 0. ],\n",
       "       [0. , 0. , 1. ],\n",
       "       [0. , 1. , 0. ]])"
      ]
     },
     "execution_count": 140,
     "metadata": {},
     "output_type": "execute_result"
    }
   ],
   "source": [
    "%time clf.predict_proba(X_test)"
   ]
  },
  {
   "cell_type": "code",
   "execution_count": 14,
   "metadata": {},
   "outputs": [
    {
     "name": "stdout",
     "output_type": "stream",
     "text": [
      "CPU times: user 0 ns, sys: 2.27 ms, total: 2.27 ms\n",
      "Wall time: 1.45 ms\n"
     ]
    },
    {
     "data": {
      "text/plain": [
       "array([[0., 1., 0.],\n",
       "       [0., 1., 0.],\n",
       "       [0., 0., 1.],\n",
       "       [0., 1., 0.],\n",
       "       [1., 0., 0.],\n",
       "       [1., 0., 0.],\n",
       "       [0., 1., 0.],\n",
       "       [1., 0., 0.],\n",
       "       [0., 0., 1.],\n",
       "       [1., 0., 0.],\n",
       "       [0., 0., 1.],\n",
       "       [1., 0., 0.],\n",
       "       [0., 0., 1.],\n",
       "       [0., 0., 1.],\n",
       "       [0., 0., 1.]])"
      ]
     },
     "execution_count": 14,
     "metadata": {},
     "output_type": "execute_result"
    }
   ],
   "source": [
    "%time my_clf.predict_proba(X_test)"
   ]
  },
  {
   "cell_type": "code",
   "execution_count": 15,
   "metadata": {},
   "outputs": [
    {
     "data": {
      "text/plain": [
       "0.9333333333333333"
      ]
     },
     "execution_count": 15,
     "metadata": {},
     "output_type": "execute_result"
    }
   ],
   "source": [
    "clf.score(X_test, y_test)"
   ]
  },
  {
   "cell_type": "code",
   "execution_count": 16,
   "metadata": {},
   "outputs": [
    {
     "data": {
      "text/plain": [
       "0.9333333333333333"
      ]
     },
     "execution_count": 16,
     "metadata": {},
     "output_type": "execute_result"
    }
   ],
   "source": [
    "my_clf.score(X_test, y_test)"
   ]
  },
  {
   "cell_type": "markdown",
   "metadata": {},
   "source": [
    "Задание 3"
   ]
  },
  {
   "cell_type": "code",
   "execution_count": 77,
   "metadata": {},
   "outputs": [
    {
     "data": {
      "text/plain": [
       "12"
      ]
     },
     "execution_count": 77,
     "metadata": {},
     "output_type": "execute_result"
    },
    {
     "data": {
      "image/png": "[encoded data removed]",
      "text/plain": [
       "<Figure size 432x288 with 1 Axes>"
      ]
     },
     "metadata": {
      "needs_background": "light"
     },
     "output_type": "display_data"
    }
   ],
   "source": [
    "#%%pycodestyle\n",
    "n = 20\n",
    "best = np.zeros(n, dtype=np.int)\n",
    "for j in range(n):\n",
    "    score = np.ones(y_train.size, dtype=np.int)\n",
    "    while np.sum(score) > 0:\n",
    "        best[j] = np.nonzero(score)[0][0] + 1\n",
    "        X_train, X_test, y_train, y_test = \\\n",
    "            train_test_split(iris.data,\n",
    "                             iris.target,\n",
    "                             test_size=0.1,\n",
    "                             stratify=iris.target)\n",
    "        y = np.zeros(y_train.size)\n",
    "        for i in range(y_train.size):\n",
    "            my_clf = MyKNeighborsClassifier(n_neighbors=i+1, algorithm='brute')\n",
    "            my_clf.fit(X_train, y_train)\n",
    "            y[i] = my_clf.score(X_test, y_test)\n",
    "            if y[i] != 1:\n",
    "                score[i] = 0\n",
    "        plt.plot(y)\n",
    "args = np.argsort(np.bincount(best))\n",
    "args = np.flip(args)\n",
    "the_best = args[0]\n",
    "if the_best == 1:\n",
    "    the_best = args[1]\n",
    "the_best"
   ]
  },
  {
   "cell_type": "markdown",
   "metadata": {},
   "source": [
    "**MNIST**"
   ]
  },
  {
   "cell_type": "code",
   "execution_count": 80,
   "metadata": {},
   "outputs": [],
   "source": [
    "mnist = fetch_openml('mnist_784')"
   ]
  },
  {
   "cell_type": "code",
   "execution_count": 81,
   "metadata": {},
   "outputs": [],
   "source": [
    "X_train, X_test, y_train, y_test = train_test_split(mnist.data, mnist.target, test_size=0.01, stratify=mnist.target)"
   ]
  },
  {
   "cell_type": "code",
   "execution_count": 82,
   "metadata": {},
   "outputs": [
    {
     "data": {
      "text/plain": [
       "array([[0., 0., 0., ..., 0., 0., 0.],\n",
       "       [0., 0., 0., ..., 0., 0., 0.],\n",
       "       [0., 0., 0., ..., 0., 0., 0.],\n",
       "       ...,\n",
       "       [0., 0., 0., ..., 0., 0., 0.],\n",
       "       [0., 0., 0., ..., 0., 0., 0.],\n",
       "       [0., 0., 0., ..., 0., 0., 0.]])"
      ]
     },
     "execution_count": 82,
     "metadata": {},
     "output_type": "execute_result"
    }
   ],
   "source": []
  },
  {
   "cell_type": "code",
   "execution_count": 83,
   "metadata": {},
   "outputs": [],
   "source": [
    "clf = KNeighborsClassifier(n_neighbors=2, algorithm='brute')\n",
    "my_clf = MyKNeighborsClassifier(n_neighbors=2, algorithm='brute')"
   ]
  },
  {
   "cell_type": "code",
   "execution_count": 84,
   "metadata": {},
   "outputs": [
    {
     "name": "stdout",
     "output_type": "stream",
     "text": [
      "CPU times: user 111 ms, sys: 4.03 ms, total: 115 ms\n",
      "Wall time: 114 ms\n"
     ]
    },
    {
     "data": {
      "text/plain": [
       "KNeighborsClassifier(algorithm='brute', leaf_size=30, metric='minkowski',\n",
       "           metric_params=None, n_jobs=None, n_neighbors=2, p=2,\n",
       "           weights='uniform')"
      ]
     },
     "execution_count": 84,
     "metadata": {},
     "output_type": "execute_result"
    }
   ],
   "source": [
    "%time clf.fit(X_train, y_train)"
   ]
  },
  {
   "cell_type": "code",
   "execution_count": 85,
   "metadata": {},
   "outputs": [
    {
     "name": "stdout",
     "output_type": "stream",
     "text": [
      "CPU times: user 235 ms, sys: 132 ms, total: 367 ms\n",
      "Wall time: 91.9 ms\n"
     ]
    }
   ],
   "source": [
    "%time my_clf.fit(X_train, y_train)"
   ]
  },
  {
   "cell_type": "code",
   "execution_count": 86,
   "metadata": {},
   "outputs": [
    {
     "name": "stdout",
     "output_type": "stream",
     "text": [
      "CPU times: user 3.96 s, sys: 232 ms, total: 4.19 s\n",
      "Wall time: 1.33 s\n"
     ]
    },
    {
     "data": {
      "text/plain": [
       "array(['7', '8', '1', '2', '3', '1', '7', '9', '4', '7', '0', '9', '4',\n",
       "       '5', '5', '2', '3', '3', '6', '5', '6', '1', '5', '0', '1', '1',\n",
       "       '0', '2', '2', '0', '3', '3', '2', '2', '8', '2', '9', '5', '9',\n",
       "       '8', '4', '7', '1', '3', '8', '8', '6', '7', '4', '5', '1', '5',\n",
       "       '4', '8', '4', '1', '1', '1', '7', '4', '7', '1', '1', '9', '9',\n",
       "       '8', '9', '6', '4', '1', '3', '1', '9', '2', '0', '5', '8', '4',\n",
       "       '0', '7', '1', '1', '1', '6', '6', '1', '5', '7', '5', '5', '1',\n",
       "       '9', '1', '6', '4', '3', '3', '7', '0', '7', '6', '5', '2', '3',\n",
       "       '0', '1', '5', '2', '9', '8', '1', '2', '9', '6', '6', '5', '4',\n",
       "       '0', '6', '2', '2', '1', '3', '2', '5', '7', '2', '8', '3', '2',\n",
       "       '4', '9', '8', '6', '3', '4', '7', '7', '5', '7', '2', '1', '3',\n",
       "       '8', '4', '4', '6', '1', '9', '0', '7', '1', '0', '0', '7', '3',\n",
       "       '3', '7', '7', '8', '3', '4', '6', '5', '8', '5', '1', '2', '3',\n",
       "       '3', '6', '1', '5', '6', '4', '3', '3', '8', '2', '1', '6', '3',\n",
       "       '5', '4', '0', '0', '2', '7', '0', '0', '1', '1', '2', '4', '4',\n",
       "       '4', '7', '9', '8', '0', '0', '1', '9', '4', '4', '9', '1', '8',\n",
       "       '1', '6', '8', '3', '9', '3', '7', '0', '6', '9', '4', '1', '9',\n",
       "       '4', '5', '5', '4', '7', '2', '8', '7', '4', '7', '6', '0', '7',\n",
       "       '5', '9', '7', '4', '9', '4', '4', '4', '3', '3', '4', '8', '0',\n",
       "       '8', '4', '7', '6', '6', '2', '9', '7', '5', '9', '7', '6', '7',\n",
       "       '0', '5', '1', '4', '5', '8', '0', '2', '2', '5', '7', '9', '3',\n",
       "       '6', '5', '5', '5', '2', '2', '1', '0', '0', '4', '5', '0', '2',\n",
       "       '3', '5', '0', '7', '5', '9', '9', '0', '8', '7', '2', '9', '3',\n",
       "       '7', '4', '3', '4', '0', '3', '4', '7', '7', '1', '1', '3', '9',\n",
       "       '8', '6', '2', '8', '7', '4', '9', '3', '4', '5', '7', '3', '2',\n",
       "       '9', '1', '0', '0', '2', '5', '1', '7', '6', '7', '7', '1', '4',\n",
       "       '1', '1', '3', '9', '6', '0', '3', '1', '2', '1', '0', '9', '7',\n",
       "       '6', '4', '2', '7', '4', '6', '7', '9', '6', '0', '1', '9', '3',\n",
       "       '6', '4', '2', '1', '4', '9', '3', '0', '3', '1', '0', '3', '5',\n",
       "       '4', '8', '8', '8', '1', '7', '5', '6', '2', '8', '4', '6', '0',\n",
       "       '4', '6', '0', '4', '5', '6', '0', '6', '6', '7', '6', '8', '0',\n",
       "       '1', '6', '1', '7', '9', '0', '3', '6', '7', '6', '6', '3', '2',\n",
       "       '6', '1', '7', '3', '1', '0', '8', '0', '8', '5', '8', '9', '9',\n",
       "       '0', '6', '1', '1', '2', '6', '0', '2', '3', '0', '4', '1', '4',\n",
       "       '9', '6', '4', '5', '3', '2', '8', '2', '8', '7', '8', '6', '4',\n",
       "       '1', '9', '6', '7', '2', '3', '5', '5', '6', '5', '1', '0', '2',\n",
       "       '0', '7', '1', '8', '6', '1', '1', '5', '2', '3', '4', '9', '2',\n",
       "       '8', '5', '2', '3', '1', '4', '3', '0', '8', '2', '6', '3', '8',\n",
       "       '0', '5', '3', '3', '5', '9', '9', '9', '3', '8', '4', '1', '0',\n",
       "       '1', '7', '2', '7', '7', '8', '0', '9', '9', '6', '3', '1', '1',\n",
       "       '6', '2', '3', '6', '3', '3', '5', '0', '4', '8', '2', '2', '3',\n",
       "       '7', '7', '1', '8', '0', '0', '1', '1', '9', '7', '2', '7', '0',\n",
       "       '7', '3', '4', '6', '2', '8', '1', '6', '3', '7', '0', '9', '8',\n",
       "       '1', '8', '4', '3', '2', '5', '6', '1', '5', '0', '0', '0', '1',\n",
       "       '3', '9', '0', '1', '3', '9', '6', '0', '2', '9', '0', '2', '8',\n",
       "       '6', '2', '2', '7', '3', '8', '7', '9', '5', '1', '3', '8', '3',\n",
       "       '2', '4', '9', '2', '5', '2', '6', '4', '4', '6', '2', '6', '9',\n",
       "       '4', '7', '3', '8', '7', '0', '7', '8', '2', '1', '3', '1', '2',\n",
       "       '4', '4', '3', '8', '3', '5', '6', '5', '1', '3', '0', '0', '7',\n",
       "       '0', '5', '9', '3', '2', '0', '5', '3', '7', '9', '9', '4', '3',\n",
       "       '8', '9', '9', '9', '2', '7', '8', '0', '8', '5', '6', '1', '2',\n",
       "       '9', '6', '5', '4', '6', '6', '8', '9', '0', '0', '9', '1', '7',\n",
       "       '1', '4', '8', '1', '6', '1', '8', '7', '6', '4', '4', '7', '9',\n",
       "       '4', '3', '6', '9', '8', '2', '5', '5', '5', '1', '4'],\n",
       "      dtype=object)"
      ]
     },
     "execution_count": 86,
     "metadata": {},
     "output_type": "execute_result"
    }
   ],
   "source": [
    "%time clf.predict(X_test)"
   ]
  },
  {
   "cell_type": "code",
   "execution_count": 87,
   "metadata": {},
   "outputs": [
    {
     "name": "stdout",
     "output_type": "stream",
     "text": [
      "CPU times: user 10min 9s, sys: 4min 22s, total: 14min 31s\n",
      "Wall time: 3min 38s\n"
     ]
    },
    {
     "data": {
      "text/plain": [
       "array([7, 8, 1, 2, 3, 1, 7, 9, 4, 7, 0, 9, 4, 6, 5, 2, 3, 3, 6, 5, 6, 1,\n",
       "       5, 0, 1, 1, 0, 2, 2, 0, 3, 3, 2, 2, 8, 2, 9, 5, 9, 8, 4, 7, 1, 3,\n",
       "       8, 8, 6, 7, 4, 5, 1, 5, 4, 8, 4, 1, 1, 1, 7, 4, 7, 1, 1, 9, 9, 8,\n",
       "       9, 6, 4, 1, 3, 3, 9, 2, 0, 5, 8, 4, 0, 7, 1, 1, 1, 6, 6, 1, 5, 7,\n",
       "       5, 5, 1, 9, 1, 6, 4, 3, 3, 7, 0, 7, 6, 5, 2, 3, 0, 1, 5, 2, 9, 8,\n",
       "       1, 2, 9, 6, 6, 5, 4, 0, 6, 2, 2, 1, 3, 2, 5, 7, 2, 8, 3, 2, 6, 9,\n",
       "       8, 6, 3, 6, 7, 7, 5, 7, 2, 1, 3, 8, 4, 4, 6, 1, 9, 0, 7, 1, 0, 0,\n",
       "       7, 3, 3, 7, 7, 8, 3, 4, 6, 5, 8, 5, 1, 2, 3, 3, 6, 1, 5, 6, 6, 3,\n",
       "       4, 8, 2, 1, 6, 3, 5, 4, 0, 0, 2, 7, 0, 0, 1, 1, 2, 4, 4, 4, 7, 9,\n",
       "       8, 0, 0, 1, 9, 4, 4, 9, 1, 8, 1, 6, 8, 3, 9, 3, 7, 0, 6, 9, 4, 1,\n",
       "       9, 4, 5, 5, 4, 7, 2, 8, 7, 4, 7, 6, 0, 7, 5, 9, 7, 4, 9, 4, 4, 4,\n",
       "       3, 3, 4, 8, 0, 8, 4, 7, 6, 6, 2, 9, 7, 5, 9, 7, 6, 7, 0, 5, 1, 4,\n",
       "       5, 8, 0, 2, 2, 5, 7, 9, 3, 6, 5, 5, 5, 2, 2, 1, 0, 0, 4, 5, 0, 2,\n",
       "       3, 5, 0, 7, 5, 9, 9, 0, 8, 7, 2, 9, 3, 7, 4, 3, 4, 0, 6, 4, 7, 7,\n",
       "       1, 2, 3, 9, 8, 6, 2, 8, 7, 4, 9, 3, 4, 5, 7, 3, 2, 9, 1, 0, 0, 2,\n",
       "       5, 1, 7, 6, 7, 7, 1, 6, 1, 1, 3, 9, 6, 0, 3, 1, 2, 1, 0, 9, 7, 6,\n",
       "       4, 2, 7, 4, 6, 7, 9, 6, 0, 4, 9, 3, 6, 4, 2, 1, 4, 9, 3, 0, 3, 1,\n",
       "       0, 3, 5, 4, 8, 8, 8, 1, 7, 5, 6, 2, 8, 4, 6, 0, 4, 6, 0, 4, 5, 6,\n",
       "       0, 6, 6, 7, 6, 8, 0, 1, 6, 1, 7, 9, 0, 3, 6, 7, 6, 6, 3, 4, 6, 1,\n",
       "       7, 3, 4, 1, 8, 0, 8, 6, 8, 9, 9, 0, 6, 1, 1, 2, 7, 0, 2, 3, 0, 4,\n",
       "       1, 4, 9, 6, 5, 5, 3, 2, 8, 2, 8, 7, 8, 6, 4, 2, 9, 7, 7, 2, 3, 5,\n",
       "       5, 6, 5, 1, 0, 2, 0, 7, 1, 8, 6, 1, 1, 5, 2, 3, 4, 9, 2, 8, 5, 2,\n",
       "       3, 1, 4, 3, 0, 8, 2, 6, 4, 8, 0, 5, 3, 3, 5, 9, 9, 9, 3, 8, 4, 1,\n",
       "       0, 1, 7, 2, 7, 7, 8, 0, 9, 9, 6, 3, 1, 1, 6, 2, 3, 6, 3, 3, 5, 0,\n",
       "       4, 8, 2, 2, 3, 7, 7, 1, 8, 0, 0, 1, 1, 9, 7, 2, 7, 0, 7, 3, 4, 6,\n",
       "       2, 8, 1, 6, 3, 7, 0, 9, 8, 2, 8, 6, 3, 2, 5, 6, 1, 5, 0, 0, 0, 1,\n",
       "       3, 9, 0, 1, 3, 9, 6, 0, 2, 9, 0, 2, 8, 6, 2, 2, 7, 3, 8, 7, 9, 5,\n",
       "       1, 3, 8, 3, 2, 4, 9, 2, 5, 4, 6, 4, 4, 6, 2, 6, 9, 4, 7, 3, 8, 7,\n",
       "       0, 7, 8, 2, 1, 3, 1, 2, 4, 6, 3, 8, 3, 5, 6, 5, 1, 4, 0, 0, 7, 0,\n",
       "       5, 9, 3, 2, 0, 5, 3, 7, 9, 9, 4, 6, 8, 9, 9, 9, 2, 7, 8, 0, 8, 5,\n",
       "       6, 1, 2, 9, 6, 5, 4, 6, 6, 8, 9, 2, 0, 9, 1, 7, 1, 4, 8, 1, 6, 1,\n",
       "       8, 7, 6, 4, 4, 7, 9, 4, 3, 6, 9, 8, 2, 5, 5, 6, 1, 6])"
      ]
     },
     "execution_count": 87,
     "metadata": {},
     "output_type": "execute_result"
    }
   ],
   "source": [
    "%time my_clf.predict(X_test)"
   ]
  },
  {
   "cell_type": "code",
   "execution_count": 88,
   "metadata": {},
   "outputs": [
    {
     "name": "stdout",
     "output_type": "stream",
     "text": [
      "CPU times: user 3.95 s, sys: 220 ms, total: 4.17 s\n",
      "Wall time: 1.31 s\n"
     ]
    },
    {
     "data": {
      "text/plain": [
       "array([[0. , 0. , 0. , ..., 1. , 0. , 0. ],\n",
       "       [0. , 0. , 0. , ..., 0. , 1. , 0. ],\n",
       "       [0. , 1. , 0. , ..., 0. , 0. , 0. ],\n",
       "       ...,\n",
       "       [0. , 0. , 0. , ..., 0.5, 0. , 0. ],\n",
       "       [0. , 1. , 0. , ..., 0. , 0. , 0. ],\n",
       "       [0. , 0. , 0. , ..., 0. , 0. , 0.5]])"
      ]
     },
     "execution_count": 88,
     "metadata": {},
     "output_type": "execute_result"
    }
   ],
   "source": [
    "%time clf.predict_proba(X_test)"
   ]
  },
  {
   "cell_type": "code",
   "execution_count": 89,
   "metadata": {},
   "outputs": [
    {
     "name": "stdout",
     "output_type": "stream",
     "text": [
      "CPU times: user 10min 5s, sys: 4min 22s, total: 14min 27s\n",
      "Wall time: 3min 37s\n"
     ]
    },
    {
     "data": {
      "text/plain": [
       "array([[0. , 0. , 0. , ..., 1. , 0. , 0. ],\n",
       "       [0. , 0. , 0. , ..., 0. , 1. , 0. ],\n",
       "       [0. , 1. , 0. , ..., 0. , 0. , 0. ],\n",
       "       ...,\n",
       "       [0. , 0. , 0. , ..., 0.5, 0. , 0. ],\n",
       "       [0. , 1. , 0. , ..., 0. , 0. , 0. ],\n",
       "       [0. , 0. , 0. , ..., 0. , 0. , 0.5]])"
      ]
     },
     "execution_count": 89,
     "metadata": {},
     "output_type": "execute_result"
    }
   ],
   "source": [
    "%time my_clf.predict_proba(X_test)"
   ]
  },
  {
   "cell_type": "code",
   "execution_count": 90,
   "metadata": {},
   "outputs": [
    {
     "data": {
      "text/plain": [
       "0.9628571428571429"
      ]
     },
     "execution_count": 90,
     "metadata": {},
     "output_type": "execute_result"
    }
   ],
   "source": [
    "clf.score(X_test, y_test)"
   ]
  },
  {
   "cell_type": "code",
   "execution_count": 91,
   "metadata": {},
   "outputs": [
    {
     "data": {
      "text/plain": [
       "0.0"
      ]
     },
     "execution_count": 91,
     "metadata": {},
     "output_type": "execute_result"
    }
   ],
   "source": [
    "my_clf.score(X_test, y_test)"
   ]
  },
  {
   "cell_type": "markdown",
   "metadata": {},
   "source": [
    "Задание 4"
   ]
  },
  {
   "cell_type": "code",
   "execution_count": null,
   "metadata": {},
   "outputs": [],
   "source": [
    "clf = KNeighborsClassifier(n_neighbors=2, algorithm='kd_tree')\n",
    "my_clf = MyKNeighborsClassifier(n_neighbors=2, algorithm='kd_tree')"
   ]
  },
  {
   "cell_type": "code",
   "execution_count": null,
   "metadata": {},
   "outputs": [],
   "source": [
    "X_train, X_test, y_train, y_test = train_test_split(mnist.data, mnist.target, test_size=0.01, stratify=mnist.target)"
   ]
  },
  {
   "cell_type": "code",
   "execution_count": null,
   "metadata": {},
   "outputs": [],
   "source": [
    "%time clf.fit(X_train, y_train)"
   ]
  },
  {
   "cell_type": "code",
   "execution_count": null,
   "metadata": {},
   "outputs": [],
   "source": [
    "%time my_clf.fit(X_train, y_train)"
   ]
  },
  {
   "cell_type": "code",
   "execution_count": null,
   "metadata": {},
   "outputs": [],
   "source": [
    "%time clf.predict(X_test)"
   ]
  },
  {
   "cell_type": "code",
   "execution_count": null,
   "metadata": {},
   "outputs": [],
   "source": [
    "%time my_clf.predict(X_test)"
   ]
  },
  {
   "cell_type": "code",
   "execution_count": null,
   "metadata": {},
   "outputs": [],
   "source": [
    "%time clf.predict_proba(X_test)"
   ]
  },
  {
   "cell_type": "code",
   "execution_count": null,
   "metadata": {},
   "outputs": [],
   "source": [
    "%time my_clf.predict_proba(X_test)"
   ]
  },
  {
   "cell_type": "code",
   "execution_count": null,
   "metadata": {},
   "outputs": [],
   "source": [
    "clf.score(X_test, y_test)"
   ]
  },
  {
   "cell_type": "code",
   "execution_count": null,
   "metadata": {},
   "outputs": [],
   "source": [
    "my_clf.score(X_test, y_test)"
   ]
  },
  {
   "cell_type": "markdown",
   "metadata": {},
   "source": [
    "Задание 5"
   ]
  },
  {
   "cell_type": "code",
   "execution_count": null,
   "metadata": {},
   "outputs": [],
   "source": [
    "# seaborn\n",
    "# matplotlib\n",
    "# train_test_split\n",
    "# Pipelin%load_ext e (from sklearn.pipeline import Pipeline)\n",
    "# StandardScaler (from sklearn.preprocessing import StandardScaler)\n",
    "# ClassifierMixin\n",
    "# NeighborsBase\n",
    "# KNeighborsMixin\n",
    "# SupervisedIntegerMixin"
   ]
  }
 ],
 "metadata": {
  "kernelspec": {
   "display_name": "Python 3",
   "language": "python",
   "name": "python3"
  },
  "language_info": {
   "codemirror_mode": {
    "name": "ipython",
    "version": 3
   },
   "file_extension": ".py",
   "mimetype": "text/x-python",
   "name": "python",
   "nbconvert_exporter": "python",
   "pygments_lexer": "ipython3",
   "version": "3.7.3"
  }
 },
 "nbformat": 4,
 "nbformat_minor": 2
}
